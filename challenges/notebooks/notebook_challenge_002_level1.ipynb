{
  "cells": [
    {
      "cell_type": "markdown",
      "id": "cc962f74",
      "metadata": {
        "id": "cc962f74"
      },
      "source": [
        "\n",
        "# Por favor tente resolver o desafio sozinho, não pegue atalhos, tu consegue, é só colocar a cabeça para funcionar."
      ]
    },
    {
      "cell_type": "markdown",
      "id": "481f2029",
      "metadata": {
        "id": "481f2029"
      },
      "source": [
        "Execute a célula abaixo apenas uma vez."
      ]
    },
    {
      "cell_type": "code",
      "execution_count": 1,
      "id": "5478638e",
      "metadata": {
        "id": "5478638e",
        "colab": {
          "base_uri": "https://localhost:8080/"
        },
        "outputId": "de0e1a19-7ccb-464e-b72d-db3cc6b7fa04"
      },
      "outputs": [
        {
          "output_type": "stream",
          "name": "stderr",
          "text": [
            "Cloning into '30-day-challenges-with-sql'...\n"
          ]
        }
      ],
      "source": [
        "%%bash\n",
        "\n",
        "rm -rf /tmp/github; mkdir -p /tmp/github; cd /tmp/github\n",
        "git clone https://github.com/romeritomorais/30-day-challenges-with-sql.git\n",
        "sh /tmp/github/30-day-challenges-with-sql/challenges/utils/install-miniconda.sh > /dev/null 2>&1\n",
        "sh /tmp/github/30-day-challenges-with-sql/challenges/utils/update-miniconda.sh > /dev/null 2>&1"
      ]
    },
    {
      "cell_type": "markdown",
      "id": "5d3a3a36",
      "metadata": {
        "id": "5d3a3a36"
      },
      "source": [
        "Nesse desafio super fácil, eu preciso dos registros onde o primeiro caracter seja o \"A\" e o terceiro \"e\" da coluna `FirstName`\n",
        "tu vai criar uma query que traga esse resultado e uma breve explicação da implementação do código e descrever a query abaixo:\n",
        "\n",
        "\n",
        "FirstName |\n",
        "-|\n",
        "Alexandre| \n",
        "\n",
        "Na celula onde tem `%%sql` tu vai escrever a query abaixo dela, exemplo:  \n",
        "```python\n",
        "%%sql\n",
        "select * from Customer\n",
        "```\n",
        "\n",
        "Para resolução tu podes usar a documentação do sqlite:https://www.sqlite.org/docs.html"
      ]
    },
    {
      "cell_type": "code",
      "execution_count": 2,
      "id": "5fc377e9",
      "metadata": {
        "id": "5fc377e9",
        "colab": {
          "base_uri": "https://localhost:8080/",
          "height": 35
        },
        "outputId": "bd8f83db-4fc9-4550-a726-63db69a149b1"
      },
      "outputs": [
        {
          "output_type": "execute_result",
          "data": {
            "text/plain": [
              "'Connected: @//tmp/github/30-day-challenges-with-sql/challenges/utils/db/database.db'"
            ],
            "application/vnd.google.colaboratory.intrinsic+json": {
              "type": "string"
            }
          },
          "metadata": {},
          "execution_count": 2
        }
      ],
      "source": [
        "%load_ext sql\n",
        "%sql sqlite://///tmp/github/30-day-challenges-with-sql/challenges/utils/db/database.db"
      ]
    },
    {
      "cell_type": "markdown",
      "id": "138054b1",
      "metadata": {
        "id": "138054b1"
      },
      "source": [
        "explicação da implementação do código\n",
        "....\n",
        "\n",
        "Vamos visualizar a tabela 'Customer' para visualizar todas as suas colunas."
      ]
    },
    {
      "cell_type": "code",
      "execution_count": null,
      "id": "9e241d83",
      "metadata": {
        "id": "9e241d83"
      },
      "outputs": [],
      "source": [
        "%%sql\n",
        "SELECT * from Customer"
      ]
    },
    {
      "cell_type": "markdown",
      "source": [
        "Como o desafio em questão está relacionado com a coluna 'FirstName', vamos selecioná-la através do comando SELECT."
      ],
      "metadata": {
        "id": "isRH_m-wZnk0"
      },
      "id": "isRH_m-wZnk0"
    },
    {
      "cell_type": "code",
      "source": [
        "%%sql\n",
        "SELECT FirstName FROM Customer"
      ],
      "metadata": {
        "colab": {
          "base_uri": "https://localhost:8080/",
          "height": 1000
        },
        "id": "vhhxs4RsLX0z",
        "outputId": "e386c00d-6fd2-4155-944a-e3baf9b83c3b"
      },
      "id": "vhhxs4RsLX0z",
      "execution_count": 6,
      "outputs": [
        {
          "output_type": "stream",
          "name": "stdout",
          "text": [
            " * sqlite://///tmp/github/30-day-challenges-with-sql/challenges/utils/db/database.db\n",
            "Done.\n"
          ]
        },
        {
          "output_type": "execute_result",
          "data": {
            "text/plain": [
              "[('Luís',),\n",
              " ('Leonie',),\n",
              " ('François',),\n",
              " ('Bjørn',),\n",
              " ('František',),\n",
              " ('Helena',),\n",
              " ('Astrid',),\n",
              " ('Daan',),\n",
              " ('Kara',),\n",
              " ('Eduardo',),\n",
              " ('Alexandre',),\n",
              " ('Roberto',),\n",
              " ('Fernanda',),\n",
              " ('Mark',),\n",
              " ('Jennifer',),\n",
              " ('Frank',),\n",
              " ('Jack',),\n",
              " ('Michelle',),\n",
              " ('Tim',),\n",
              " ('Dan',),\n",
              " ('Kathy',),\n",
              " ('Heather',),\n",
              " ('John',),\n",
              " ('Frank',),\n",
              " ('Victor',),\n",
              " ('Richard',),\n",
              " ('Patrick',),\n",
              " ('Julia',),\n",
              " ('Robert',),\n",
              " ('Edward',),\n",
              " ('Martha',),\n",
              " ('Aaron',),\n",
              " ('Ellie',),\n",
              " ('João',),\n",
              " ('Madalena',),\n",
              " ('Hannah',),\n",
              " ('Fynn',),\n",
              " ('Niklas',),\n",
              " ('Camille',),\n",
              " ('Dominique',),\n",
              " ('Marc',),\n",
              " ('Wyatt',),\n",
              " ('Isabelle',),\n",
              " ('Terhi',),\n",
              " ('Ladislav',),\n",
              " ('Hugh',),\n",
              " ('Lucas',),\n",
              " ('Johannes',),\n",
              " ('Stanisław',),\n",
              " ('Enrique',),\n",
              " ('Joakim',),\n",
              " ('Emma',),\n",
              " ('Phil',),\n",
              " ('Steve',),\n",
              " ('Mark',),\n",
              " ('Diego',),\n",
              " ('Luis',),\n",
              " ('Manoj',),\n",
              " ('Puja',)]"
            ],
            "text/html": [
              "<table>\n",
              "    <thead>\n",
              "        <tr>\n",
              "            <th>FirstName</th>\n",
              "        </tr>\n",
              "    </thead>\n",
              "    <tbody>\n",
              "        <tr>\n",
              "            <td>Luís</td>\n",
              "        </tr>\n",
              "        <tr>\n",
              "            <td>Leonie</td>\n",
              "        </tr>\n",
              "        <tr>\n",
              "            <td>François</td>\n",
              "        </tr>\n",
              "        <tr>\n",
              "            <td>Bjørn</td>\n",
              "        </tr>\n",
              "        <tr>\n",
              "            <td>František</td>\n",
              "        </tr>\n",
              "        <tr>\n",
              "            <td>Helena</td>\n",
              "        </tr>\n",
              "        <tr>\n",
              "            <td>Astrid</td>\n",
              "        </tr>\n",
              "        <tr>\n",
              "            <td>Daan</td>\n",
              "        </tr>\n",
              "        <tr>\n",
              "            <td>Kara</td>\n",
              "        </tr>\n",
              "        <tr>\n",
              "            <td>Eduardo</td>\n",
              "        </tr>\n",
              "        <tr>\n",
              "            <td>Alexandre</td>\n",
              "        </tr>\n",
              "        <tr>\n",
              "            <td>Roberto</td>\n",
              "        </tr>\n",
              "        <tr>\n",
              "            <td>Fernanda</td>\n",
              "        </tr>\n",
              "        <tr>\n",
              "            <td>Mark</td>\n",
              "        </tr>\n",
              "        <tr>\n",
              "            <td>Jennifer</td>\n",
              "        </tr>\n",
              "        <tr>\n",
              "            <td>Frank</td>\n",
              "        </tr>\n",
              "        <tr>\n",
              "            <td>Jack</td>\n",
              "        </tr>\n",
              "        <tr>\n",
              "            <td>Michelle</td>\n",
              "        </tr>\n",
              "        <tr>\n",
              "            <td>Tim</td>\n",
              "        </tr>\n",
              "        <tr>\n",
              "            <td>Dan</td>\n",
              "        </tr>\n",
              "        <tr>\n",
              "            <td>Kathy</td>\n",
              "        </tr>\n",
              "        <tr>\n",
              "            <td>Heather</td>\n",
              "        </tr>\n",
              "        <tr>\n",
              "            <td>John</td>\n",
              "        </tr>\n",
              "        <tr>\n",
              "            <td>Frank</td>\n",
              "        </tr>\n",
              "        <tr>\n",
              "            <td>Victor</td>\n",
              "        </tr>\n",
              "        <tr>\n",
              "            <td>Richard</td>\n",
              "        </tr>\n",
              "        <tr>\n",
              "            <td>Patrick</td>\n",
              "        </tr>\n",
              "        <tr>\n",
              "            <td>Julia</td>\n",
              "        </tr>\n",
              "        <tr>\n",
              "            <td>Robert</td>\n",
              "        </tr>\n",
              "        <tr>\n",
              "            <td>Edward</td>\n",
              "        </tr>\n",
              "        <tr>\n",
              "            <td>Martha</td>\n",
              "        </tr>\n",
              "        <tr>\n",
              "            <td>Aaron</td>\n",
              "        </tr>\n",
              "        <tr>\n",
              "            <td>Ellie</td>\n",
              "        </tr>\n",
              "        <tr>\n",
              "            <td>João</td>\n",
              "        </tr>\n",
              "        <tr>\n",
              "            <td>Madalena</td>\n",
              "        </tr>\n",
              "        <tr>\n",
              "            <td>Hannah</td>\n",
              "        </tr>\n",
              "        <tr>\n",
              "            <td>Fynn</td>\n",
              "        </tr>\n",
              "        <tr>\n",
              "            <td>Niklas</td>\n",
              "        </tr>\n",
              "        <tr>\n",
              "            <td>Camille</td>\n",
              "        </tr>\n",
              "        <tr>\n",
              "            <td>Dominique</td>\n",
              "        </tr>\n",
              "        <tr>\n",
              "            <td>Marc</td>\n",
              "        </tr>\n",
              "        <tr>\n",
              "            <td>Wyatt</td>\n",
              "        </tr>\n",
              "        <tr>\n",
              "            <td>Isabelle</td>\n",
              "        </tr>\n",
              "        <tr>\n",
              "            <td>Terhi</td>\n",
              "        </tr>\n",
              "        <tr>\n",
              "            <td>Ladislav</td>\n",
              "        </tr>\n",
              "        <tr>\n",
              "            <td>Hugh</td>\n",
              "        </tr>\n",
              "        <tr>\n",
              "            <td>Lucas</td>\n",
              "        </tr>\n",
              "        <tr>\n",
              "            <td>Johannes</td>\n",
              "        </tr>\n",
              "        <tr>\n",
              "            <td>Stanisław</td>\n",
              "        </tr>\n",
              "        <tr>\n",
              "            <td>Enrique</td>\n",
              "        </tr>\n",
              "        <tr>\n",
              "            <td>Joakim</td>\n",
              "        </tr>\n",
              "        <tr>\n",
              "            <td>Emma</td>\n",
              "        </tr>\n",
              "        <tr>\n",
              "            <td>Phil</td>\n",
              "        </tr>\n",
              "        <tr>\n",
              "            <td>Steve</td>\n",
              "        </tr>\n",
              "        <tr>\n",
              "            <td>Mark</td>\n",
              "        </tr>\n",
              "        <tr>\n",
              "            <td>Diego</td>\n",
              "        </tr>\n",
              "        <tr>\n",
              "            <td>Luis</td>\n",
              "        </tr>\n",
              "        <tr>\n",
              "            <td>Manoj</td>\n",
              "        </tr>\n",
              "        <tr>\n",
              "            <td>Puja</td>\n",
              "        </tr>\n",
              "    </tbody>\n",
              "</table>"
            ]
          },
          "metadata": {},
          "execution_count": 6
        }
      ]
    },
    {
      "cell_type": "markdown",
      "source": [
        "Dentre todos os nomes listados da coluna 'FirstName', nos interessa os nomes que começam com o caractere 'A' (em maiúsculo). Para isso, foi criado um filtro para selecionar as strings que começam com 'A'."
      ],
      "metadata": {
        "id": "5ckahp07aRpL"
      },
      "id": "5ckahp07aRpL"
    },
    {
      "cell_type": "code",
      "source": [
        "%%sql\n",
        "SELECT FirstName FROM Customer WHERE FirstName like \"A%\""
      ],
      "metadata": {
        "colab": {
          "base_uri": "https://localhost:8080/",
          "height": 139
        },
        "id": "wszMey1Kajxz",
        "outputId": "f2b4a8ac-2cda-443d-cb5d-6036e4f8c8a9"
      },
      "id": "wszMey1Kajxz",
      "execution_count": 57,
      "outputs": [
        {
          "output_type": "stream",
          "name": "stdout",
          "text": [
            " * sqlite://///tmp/github/30-day-challenges-with-sql/challenges/utils/db/database.db\n",
            "Done.\n"
          ]
        },
        {
          "output_type": "execute_result",
          "data": {
            "text/plain": [
              "[('Astrid',), ('Alexandre',), ('Aaron',)]"
            ],
            "text/html": [
              "<table>\n",
              "    <thead>\n",
              "        <tr>\n",
              "            <th>FirstName</th>\n",
              "        </tr>\n",
              "    </thead>\n",
              "    <tbody>\n",
              "        <tr>\n",
              "            <td>Astrid</td>\n",
              "        </tr>\n",
              "        <tr>\n",
              "            <td>Alexandre</td>\n",
              "        </tr>\n",
              "        <tr>\n",
              "            <td>Aaron</td>\n",
              "        </tr>\n",
              "    </tbody>\n",
              "</table>"
            ]
          },
          "metadata": {},
          "execution_count": 57
        }
      ]
    },
    {
      "cell_type": "markdown",
      "source": [
        "Foram retornados três strings. Entretanto, o desafio pede que os nomes selecionados iniciem com o caractere 'A' e contenha o caractere 'e' na terceira posição na string. Para isso, foi utilizado o comando 'SUBSTR(string, start, length)' para filtrar uma cadeia de caracteres de uma string. Onde o argumento 'string' refere-se a uma string específica, ou a uma coluna específica, o argumento 'start' refere-se a posição de início do caractere na string e o argumento 'length' refere-se ao comprimento da cadeia de caracteres. Assim, o comando usado será:\n",
        "\n",
        "SUBSTR(FirstName, 3, 1)\n",
        "\n",
        "Onde 'FirstName' é a coluna a qual contém as strings de interesse, 3 indica o caractere de terceira posição e 1 é o comprimento da cadeia de caracteres a partir da terceira posição (como trata-se de um único caractere, o comprimento fica 1). Por fim, 'like \"e\"' indica que o caractere selecionado na terceira posição da string seja 'e'."
      ],
      "metadata": {
        "id": "5L7i-wTbanxd"
      },
      "id": "5L7i-wTbanxd"
    },
    {
      "cell_type": "code",
      "source": [
        "%%sql\n",
        "SELECT FirstName FROM Customer WHERE FirstName like \"A%\" and SUBSTR(FirstName, 3, 1) like \"e\"\n"
      ],
      "metadata": {
        "colab": {
          "base_uri": "https://localhost:8080/",
          "height": 96
        },
        "id": "FCt-N_88Lqlb",
        "outputId": "f1398fb7-f168-44aa-dcb1-5207b9cb91f5"
      },
      "id": "FCt-N_88Lqlb",
      "execution_count": 56,
      "outputs": [
        {
          "output_type": "stream",
          "name": "stdout",
          "text": [
            " * sqlite://///tmp/github/30-day-challenges-with-sql/challenges/utils/db/database.db\n",
            "Done.\n"
          ]
        },
        {
          "output_type": "execute_result",
          "data": {
            "text/plain": [
              "[('Alexandre',)]"
            ],
            "text/html": [
              "<table>\n",
              "    <thead>\n",
              "        <tr>\n",
              "            <th>FirstName</th>\n",
              "        </tr>\n",
              "    </thead>\n",
              "    <tbody>\n",
              "        <tr>\n",
              "            <td>Alexandre</td>\n",
              "        </tr>\n",
              "    </tbody>\n",
              "</table>"
            ]
          },
          "metadata": {},
          "execution_count": 56
        }
      ]
    },
    {
      "cell_type": "markdown",
      "source": [
        "Para finalizar, basta concatenar os dois comandos através do 'and', de modo que as duas condições sejam satisfeitas: string inicia com o caractere 'A' e (and) contenha o caractere 'e' na terceira posição da string. O resultado mostra apenas um nome que satisfaz a condição."
      ],
      "metadata": {
        "id": "3mG6bsVmd9Vz"
      },
      "id": "3mG6bsVmd9Vz"
    }
  ],
  "metadata": {
    "kernelspec": {
      "display_name": "Python 3",
      "language": "python",
      "name": "python3"
    },
    "language_info": {
      "codemirror_mode": {
        "name": "ipython",
        "version": 3
      },
      "file_extension": ".py",
      "mimetype": "text/x-python",
      "name": "python",
      "nbconvert_exporter": "python",
      "pygments_lexer": "ipython3",
      "version": "3.10.4"
    },
    "colab": {
      "name": "Cópia de notebook_challenge_002_level1.ipynb",
      "provenance": [],
      "collapsed_sections": []
    }
  },
<<<<<<< HEAD
  "nbformat": 4,
  "nbformat_minor": 5
}
=======
  {
   "cell_type": "markdown",
   "id": "481f2029",
   "metadata": {},
   "source": [
    "Execute a célula abaixo apenas uma vez."
   ]
  },
  {
   "cell_type": "code",
   "execution_count": null,
   "id": "5478638e",
   "metadata": {},
   "outputs": [],
   "source": [
    "%%bash\n",
    "\n",
    "rm -rf /tmp/github; mkdir -p /tmp/github; cd /tmp/github\n",
    "git clone https://github.com/romeritomorais/30-day-challenges-with-sql.git\n",
    "sh /tmp/github/30-day-challenges-with-sql/challenges/utils/install-miniconda.sh > /dev/null 2>&1\n",
    "sh /tmp/github/30-day-challenges-with-sql/challenges/utils/update-miniconda.sh > /dev/null 2>&1"
   ]
  },
  {
   "cell_type": "markdown",
   "id": "5d3a3a36",
   "metadata": {},
   "source": [
    "Neste desafio super fácil, precisamos dos registros onde o primeiro caracter seja o \"A\" e o terceiro \"e\" da coluna `FirstName`\n",
    "Crie uma query que retorne esse resultado e escreva uma breve explicação do código implementado:\n",
    "\n",
    "\n",
    "FirstName |\n",
    "-|\n",
    "Alexandre| \n",
    "\n",
    "Na célula onde se encontra o `%%sql`, escreva sua query, sem deletar o comando. Exemplo:  \n",
    "```python\n",
    "%%sql\n",
    "select * from Customer\n",
    "```\n",
    "\n",
    "Para resolução utilize a documentação do sqlite:https://www.sqlite.org/docs.html"
   ]
  },
  {
   "cell_type": "code",
   "execution_count": null,
   "id": "5fc377e9",
   "metadata": {},
   "outputs": [],
   "source": [
    "%load_ext sql\n",
    "%sql sqlite://///tmp/github/30-day-challenges-with-sql/challenges/utils/db/database.db"
   ]
  },
  {
   "cell_type": "markdown",
   "id": "138054b1",
   "metadata": {},
   "source": [
    "explicação da implementação do código\n",
    "...."
   ]
  },
  {
   "cell_type": "code",
   "execution_count": null,
   "id": "9e241d83",
   "metadata": {},
   "outputs": [],
   "source": [
    "%%sql\n"
   ]
  }
 ],
 "metadata": {
  "kernelspec": {
   "display_name": "Python 3 (ipykernel)",
   "language": "python",
   "name": "python3"
  },
  "language_info": {
   "codemirror_mode": {
    "name": "ipython",
    "version": 3
   },
   "file_extension": ".py",
   "mimetype": "text/x-python",
   "name": "python",
   "nbconvert_exporter": "python",
   "pygments_lexer": "ipython3",
   "version": "3.7.9"
  }
 },
 "nbformat": 4,
 "nbformat_minor": 5
}
>>>>>>> upstream/main
